{
  "nbformat": 4,
  "nbformat_minor": 0,
  "metadata": {
    "kernelspec": {
      "display_name": "Python 3",
      "language": "python",
      "name": "python3"
    },
    "language_info": {
      "codemirror_mode": {
        "name": "ipython",
        "version": 3
      },
      "file_extension": ".py",
      "mimetype": "text/x-python",
      "name": "python",
      "nbconvert_exporter": "python",
      "pygments_lexer": "ipython3",
      "version": "3.6.12"
    },
    "colab": {
      "name": "baseline_lyrics.ipynb",
      "provenance": [],
      "include_colab_link": true
    }
  },
  "cells": [
    {
      "cell_type": "markdown",
      "metadata": {
        "id": "view-in-github",
        "colab_type": "text"
      },
      "source": [
        "<a href=\"https://colab.research.google.com/github/yg-renaissance/Generate-Lyrics/blob/master/baseline_lyrics.ipynb\" target=\"_parent\"><img src=\"https://colab.research.google.com/assets/colab-badge.svg\" alt=\"Open In Colab\"/></a>"
      ]
    },
    {
      "cell_type": "code",
      "metadata": {
        "id": "V9l4mG1OQ3DK",
        "outputId": "e8aedfaa-2645-4a98-f0fd-75acac8f4162"
      },
      "source": [
        "import re                  # 정규표현식을 위한 Regex 지원 모듈 (문장 데이터를 정돈하기 위해) \n",
        "import numpy as np         # 변환된 문장 데이터(행렬)을 편하게 처리하기 위해\n",
        "import tensorflow as tf    # 대망의 텐서플로우!\n",
        "import os\n",
        "# 파일을 읽기모드로 열어 봅니다.\n",
        "file_path = './aiffel/lyricist/data/shakespeare.txt'\n",
        "with open(file_path, \"r\") as f:\n",
        "    raw_corpus = f.read().splitlines()   # 텍스트를 라인 단위로 끊어서 list 형태로 읽어옵니다.\n",
        "print(raw_corpus[:9])    # 앞에서부터 10라인만 화면에 출력해 볼까요?"
      ],
      "execution_count": null,
      "outputs": [
        {
          "output_type": "stream",
          "text": [
            "['First Citizen:', 'Before we proceed any further, hear me speak.', '', 'All:', 'Speak, speak.', '', 'First Citizen:', 'You are all resolved rather to die than to famish?', '']\n"
          ],
          "name": "stdout"
        }
      ]
    },
    {
      "cell_type": "code",
      "metadata": {
        "id": "RNFamDk5Q3DQ",
        "outputId": "e7f12141-b142-4832-acd7-232e8525ef22"
      },
      "source": [
        "for idx, sentence in enumerate(raw_corpus):\n",
        "    if len(sentence) == 0: continue   # 길이가 0인 문장은 건너뜁니다.\n",
        "    if sentence[-1] == \":\": continue  # 문장의 끝이 : 인 문장은 건너뜁니다.\n",
        "    if idx > 9: break   # 일단 문장 10개만 확인해 볼 겁니다.\n",
        "    print(sentence)"
      ],
      "execution_count": null,
      "outputs": [
        {
          "output_type": "stream",
          "text": [
            "Before we proceed any further, hear me speak.\n",
            "Speak, speak.\n",
            "You are all resolved rather to die than to famish?\n"
          ],
          "name": "stdout"
        }
      ]
    },
    {
      "cell_type": "code",
      "metadata": {
        "id": "85u-59XIQ3DR",
        "outputId": "38dd63ed-1c7b-4362-a44a-ceabc4779e45"
      },
      "source": [
        "def preprocess_sentence(sentence):\n",
        "    sentence = sentence.lower().strip()       # 소문자로 바꾸고 양쪽 공백을 삭제\n",
        "    # 아래 3단계를 거쳐 sentence는 스페이스 1개를 delimeter로 하는 소문자 단어 시퀀스로 바뀝니다.\n",
        "    sentence = re.sub(r\"([?.!,¿])\", r\" \\\\1 \", sentence)        # 패턴의 특수문자를 만나면 특수문자 양쪽에 공백을 추가\n",
        "    sentence = re.sub(r'[\" \"]+', \" \", sentence)                  # 공백 패턴을 만나면 스페이스 1개로 치환\n",
        "    sentence = re.sub(r\"[^a-zA-Z?.!,¿]+\", \" \", sentence)  # a-zA-Z?.!,¿ 패턴을 제외한 모든 문자(공백문자까지도)를 스페이스 1개로 치환\n",
        "    sentence = sentence.strip()\n",
        "    sentence = '<start> ' + sentence + ' <end>'      # 이전 스텝에서 본 것처럼 문장 앞뒤로 <start>와 <end>를 단어처럼 붙여 줍니다\n",
        "    return sentence\n",
        "print(preprocess_sentence(\"This @_is ;;;sample        sentence.\"))   # 이 문장이 어떻게 필터링되는지 확인해 보세요."
      ],
      "execution_count": null,
      "outputs": [
        {
          "output_type": "stream",
          "text": [
            "<start> this is sample sentence <end>\n"
          ],
          "name": "stdout"
        }
      ]
    },
    {
      "cell_type": "code",
      "metadata": {
        "id": "Z1CFEFOsQ3DR",
        "outputId": "a370466f-0685-43b5-fe97-375dd6c3777a"
      },
      "source": [
        "corpus = []\n",
        "for sentence in raw_corpus:\n",
        "    if len(sentence) == 0: continue\n",
        "    if sentence[-1] == \":\": continue\n",
        "    corpus.append(preprocess_sentence(sentence))\n",
        "corpus[:10]"
      ],
      "execution_count": null,
      "outputs": [
        {
          "output_type": "execute_result",
          "data": {
            "text/plain": [
              "['<start> before we proceed any further hear me speak <end>',\n",
              " '<start> speak speak <end>',\n",
              " '<start> you are all resolved rather to die than to famish <end>',\n",
              " '<start> resolved resolved <end>',\n",
              " '<start> first you know caius marcius is chief enemy to the people <end>',\n",
              " '<start> we know t we know t <end>',\n",
              " '<start> let us kill him and we ll have corn at our own price <end>',\n",
              " '<start> is t a verdict <end>',\n",
              " '<start> no more talking on t let it be done away away <end>',\n",
              " '<start> one word good citizens <end>']"
            ]
          },
          "metadata": {
            "tags": []
          },
          "execution_count": 5
        }
      ]
    },
    {
      "cell_type": "code",
      "metadata": {
        "id": "CT-DfAu4Q3DR",
        "outputId": "f0e9290f-b243-4b84-b174-7a78e9818609"
      },
      "source": [
        "def tokenize(corpus):\n",
        "    # 텐서플로우에서 제공하는 Tokenizer 패키지를 생성\n",
        "    tokenizer = tf.keras.preprocessing.text.Tokenizer(\n",
        "        num_words=7000,  # 전체 단어의 개수 \n",
        "        filters=' ',    # 별도로 전처리 로직을 추가할 수 있습니다. 이번에는 사용하지 않겠습니다.\n",
        "        oov_token=\"<unk>\"  # out-of-vocabulary, 사전에 없었던 단어는 어떤 토큰으로 대체할지\n",
        "    )\n",
        "    tokenizer.fit_on_texts(corpus)   # 우리가 구축한 corpus로부터 Tokenizer가 사전을 자동구축하게 됩니다.\n",
        "    # 이후 tokenizer를 활용하여 모델에 입력할 데이터셋을 구축하게 됩니다.\n",
        "    tensor = tokenizer.texts_to_sequences(corpus)   \n",
        "    # tokenizer는 구축한 사전으로부터 corpus를 해석해 Tensor로 변환합니다.\n",
        "    # 입력 데이터의 시퀀스 길이를 일정하게 맞추기 위한 padding  메소드를 제공합니다.\n",
        "    # maxlen의 디폴트값은 None입니다. 이 경우 corpus의 가장 긴 문장을 기준으로 시퀀스 길이가 맞춰집니다.\n",
        "    tensor = tf.keras.preprocessing.sequence.pad_sequences(tensor, padding='post')  \n",
        "    print(tensor,tokenizer)\n",
        "    return tensor, tokenizer\n",
        "tensor, tokenizer = tokenize(corpus)"
      ],
      "execution_count": null,
      "outputs": [
        {
          "output_type": "stream",
          "text": [
            "[[   2  139   36 ...    0    0    0]\n",
            " [   2  106  106 ...    0    0    0]\n",
            " [   2    9   46 ...    0    0    0]\n",
            " ...\n",
            " [   2  145 4549 ...    0    0    0]\n",
            " [   2   30   67 ...    0    0    0]\n",
            " [   2  941   30 ...    0    0    0]] <keras_preprocessing.text.Tokenizer object at 0x0000024F19323370>\n"
          ],
          "name": "stdout"
        }
      ]
    },
    {
      "cell_type": "code",
      "metadata": {
        "scrolled": true,
        "id": "MXyQozJUQ3DS",
        "outputId": "9d3f9904-ad98-4bf0-96b8-f66ac03ef587"
      },
      "source": [
        "print(tensor[:3, :10])"
      ],
      "execution_count": null,
      "outputs": [
        {
          "output_type": "stream",
          "text": [
            "[[   2  139   36  929  136  587  120   20  106    3]\n",
            " [   2  106  106    3    0    0    0    0    0    0]\n",
            " [   2    9   46   39 1197  312    7  197   70    7]]\n"
          ],
          "name": "stdout"
        }
      ]
    },
    {
      "cell_type": "code",
      "metadata": {
        "id": "oJhcHlJbQ3DS",
        "outputId": "ea73fd88-3ac3-432f-c95c-3198ffc22d82"
      },
      "source": [
        "for idx in tokenizer.index_word:\n",
        "    print(idx, \":\", tokenizer.index_word[idx])\n",
        "    if idx >= 10: break"
      ],
      "execution_count": null,
      "outputs": [
        {
          "output_type": "stream",
          "text": [
            "1 : <unk>\n",
            "2 : <start>\n",
            "3 : <end>\n",
            "4 : the\n",
            "5 : and\n",
            "6 : i\n",
            "7 : to\n",
            "8 : of\n",
            "9 : you\n",
            "10 : my\n"
          ],
          "name": "stdout"
        }
      ]
    },
    {
      "cell_type": "code",
      "metadata": {
        "id": "4y-7S_VkQ3DT",
        "outputId": "6e95d0cb-6844-4279-8053-2845510ca586"
      },
      "source": [
        "src_input = tensor[:, :-1]  \n",
        "# tensor에서 마지막 토큰을 잘라내서 소스 문장을 생성합니다. \n",
        "# 마지막 토큰은 <end>가 아니라 <pad>일 가능성이 높습니다.\n",
        "tgt_input = tensor[:, 1:]    \n",
        "# tensor에서 <start>를 잘라내서 타겟 문장을 생성합니다.\n",
        "print(src_input[0])\n",
        "print(tgt_input[0])"
      ],
      "execution_count": null,
      "outputs": [
        {
          "output_type": "stream",
          "text": [
            "[  2 139  36 929 136 587 120  20 106   3   0   0   0   0   0   0   0]\n",
            "[139  36 929 136 587 120  20 106   3   0   0   0   0   0   0   0   0]\n"
          ],
          "name": "stdout"
        }
      ]
    },
    {
      "cell_type": "code",
      "metadata": {
        "id": "wcZtOqm_Q3DT",
        "outputId": "733f9f52-e5ec-4d8b-c6e3-9243d966d8a8"
      },
      "source": [
        "BUFFER_SIZE = len(src_input)\n",
        "BATCH_SIZE = 256\n",
        "steps_per_epoch = len(src_input) // BATCH_SIZE\n",
        "VOCAB_SIZE = tokenizer.num_words + 1    # tokenizer가 구축한 단어사전 내 7000개와, 여기 포함되지 않은 0:<pad>를 포함하여 7001개\n",
        "dataset = tf.data.Dataset.from_tensor_slices((src_input, tgt_input)).shuffle(BUFFER_SIZE)\n",
        "dataset = dataset.batch(BATCH_SIZE, drop_remainder=True)\n",
        "dataset"
      ],
      "execution_count": null,
      "outputs": [
        {
          "output_type": "execute_result",
          "data": {
            "text/plain": [
              "<BatchDataset shapes: ((256, 17), (256, 17)), types: (tf.int32, tf.int32)>"
            ]
          },
          "metadata": {
            "tags": []
          },
          "execution_count": 10
        }
      ]
    },
    {
      "cell_type": "code",
      "metadata": {
        "id": "5nQFXhwQQ3DT"
      },
      "source": [
        "class TextGenerator(tf.keras.Model):\n",
        "    def __init__(self, vocab_size, embedding_size, hidden_size):\n",
        "        super(TextGenerator, self).__init__()\n",
        "        self.embedding = tf.keras.layers.Embedding(vocab_size, embedding_size)\n",
        "        self.rnn_1 = tf.keras.layers.LSTM(hidden_size, return_sequences=True)\n",
        "        self.rnn_2 = tf.keras.layers.LSTM(hidden_size, return_sequences=True)\n",
        "        self.linear = tf.keras.layers.Dense(vocab_size)\n",
        "    def call(self, x):\n",
        "        out = self.embedding(x)\n",
        "        out = self.rnn_1(out)\n",
        "        out = self.rnn_2(out)\n",
        "        out = self.linear(out)\n",
        "        return out\n",
        "embedding_size = 256\n",
        "hidden_size = 1024\n",
        "model = TextGenerator(tokenizer.num_words + 1, embedding_size , hidden_size)"
      ],
      "execution_count": null,
      "outputs": []
    },
    {
      "cell_type": "code",
      "metadata": {
        "scrolled": true,
        "id": "EjlO3mUoQ3DU",
        "outputId": "45c2cab0-0c63-4e1a-fcf5-f62369d3d4f0"
      },
      "source": [
        "for src_sample, tgt_sample in dataset.take(1): break\n",
        "model(src_sample)"
      ],
      "execution_count": null,
      "outputs": [
        {
          "output_type": "execute_result",
          "data": {
            "text/plain": [
              "<tf.Tensor: shape=(256, 17, 7001), dtype=float32, numpy=\n",
              "array([[[-1.14655471e-04, -1.78517766e-05,  3.08029848e-06, ...,\n",
              "         -1.21848148e-04,  3.87954060e-08,  8.63766181e-05],\n",
              "        [-1.49462488e-04, -1.56674738e-04,  1.15113238e-04, ...,\n",
              "         -5.35192084e-05, -4.58535505e-05, -1.65066478e-04],\n",
              "        [-7.24038255e-05, -1.31244713e-04,  3.23831482e-04, ...,\n",
              "         -2.00165989e-04,  8.45187460e-05, -3.54463176e-04],\n",
              "        ...,\n",
              "        [-1.55866286e-03, -2.94863456e-03,  4.95855045e-03, ...,\n",
              "          2.80671031e-03, -1.70373928e-03, -1.44338305e-03],\n",
              "        [-1.76224019e-03, -3.24353715e-03,  5.50625287e-03, ...,\n",
              "          2.94659287e-03, -1.76372402e-03, -1.27903011e-03],\n",
              "        [-1.95621233e-03, -3.50603927e-03,  5.98925725e-03, ...,\n",
              "          3.05174454e-03, -1.81078666e-03, -1.10585801e-03]],\n",
              "\n",
              "       [[-1.14655471e-04, -1.78517766e-05,  3.08029848e-06, ...,\n",
              "         -1.21848148e-04,  3.87954060e-08,  8.63766181e-05],\n",
              "        [-3.61169514e-04,  1.48726147e-04, -8.56634724e-05, ...,\n",
              "         -6.91658468e-04, -3.04363319e-04, -2.22735616e-04],\n",
              "        [-2.88697978e-04,  4.62465687e-05,  7.21216784e-05, ...,\n",
              "         -9.65181855e-04, -5.60063811e-04, -1.26371029e-04],\n",
              "        ...,\n",
              "        [-1.59161782e-03, -7.27709266e-04,  2.86706653e-03, ...,\n",
              "          1.23779313e-03, -2.13510520e-03, -1.61321275e-03],\n",
              "        [-1.75183848e-03, -1.13026472e-03,  3.50959785e-03, ...,\n",
              "          1.73437479e-03, -2.25448865e-03, -1.64961303e-03],\n",
              "        [-1.89791608e-03, -1.53223798e-03,  4.12767567e-03, ...,\n",
              "          2.14686897e-03, -2.32667453e-03, -1.62246299e-03]],\n",
              "\n",
              "       [[-1.14655471e-04, -1.78517766e-05,  3.08029848e-06, ...,\n",
              "         -1.21848148e-04,  3.87954060e-08,  8.63766181e-05],\n",
              "        [-4.61658819e-05, -2.14856685e-04,  9.16371937e-05, ...,\n",
              "          2.53945735e-04,  1.86448451e-04,  3.28770082e-04],\n",
              "        [-1.56360256e-05, -4.15762217e-04,  3.16779129e-04, ...,\n",
              "          4.28072992e-04,  4.16027033e-04,  6.15313475e-04],\n",
              "        ...,\n",
              "        [-1.00022240e-03, -2.22388236e-03,  3.92923597e-03, ...,\n",
              "          3.46548553e-03, -1.74273294e-03, -8.40882247e-04],\n",
              "        [-1.23926043e-03, -2.60488666e-03,  4.53704922e-03, ...,\n",
              "          3.62024922e-03, -1.82282855e-03, -7.97169574e-04],\n",
              "        [-1.46830746e-03, -2.94973329e-03,  5.09758573e-03, ...,\n",
              "          3.72059899e-03, -1.87912164e-03, -7.26848375e-04]],\n",
              "\n",
              "       ...,\n",
              "\n",
              "       [[-1.14655471e-04, -1.78517766e-05,  3.08029848e-06, ...,\n",
              "         -1.21848148e-04,  3.87954060e-08,  8.63766181e-05],\n",
              "        [-2.72120698e-04,  1.55996677e-04, -2.88352458e-05, ...,\n",
              "         -2.18514091e-04, -6.81549718e-05,  1.84504592e-04],\n",
              "        [-6.82527723e-04,  8.06741009e-05, -2.06792160e-04, ...,\n",
              "          1.60459604e-06, -9.29087400e-06,  2.84850365e-04],\n",
              "        ...,\n",
              "        [ 1.60626863e-04, -7.93789572e-04,  7.49646570e-05, ...,\n",
              "          1.39946293e-03, -1.60861481e-03, -2.16952036e-03],\n",
              "        [-2.11564504e-04, -1.06261449e-03,  7.72329979e-04, ...,\n",
              "          1.92891352e-03, -1.76470284e-03, -2.34918902e-03],\n",
              "        [-5.72960358e-04, -1.39488699e-03,  1.51131034e-03, ...,\n",
              "          2.38478812e-03, -1.87742547e-03, -2.42679939e-03]],\n",
              "\n",
              "       [[-1.14655471e-04, -1.78517766e-05,  3.08029848e-06, ...,\n",
              "         -1.21848148e-04,  3.87954060e-08,  8.63766181e-05],\n",
              "        [ 3.72605609e-05, -2.84299284e-04,  5.13479288e-04, ...,\n",
              "         -1.03025843e-04,  8.75161204e-05,  3.70734488e-04],\n",
              "        [-1.08727705e-04, -4.66566707e-04,  7.79067632e-04, ...,\n",
              "         -7.07028157e-05,  1.06172927e-04,  7.42338831e-04],\n",
              "        ...,\n",
              "        [-5.02162788e-04, -1.11790467e-03,  2.92630563e-03, ...,\n",
              "          2.16376409e-03, -1.16783183e-03, -1.15901174e-03],\n",
              "        [-7.49122119e-04, -1.54985907e-03,  3.59323295e-03, ...,\n",
              "          2.46335799e-03, -1.41584594e-03, -1.23523676e-03],\n",
              "        [-9.92818736e-04, -1.96775631e-03,  4.24394431e-03, ...,\n",
              "          2.70014396e-03, -1.59851788e-03, -1.24248839e-03]],\n",
              "\n",
              "       [[-1.14655471e-04, -1.78517766e-05,  3.08029848e-06, ...,\n",
              "         -1.21848148e-04,  3.87954060e-08,  8.63766181e-05],\n",
              "        [-3.80184036e-04, -8.44224123e-05, -9.40290047e-05, ...,\n",
              "         -1.98488968e-04,  5.54175349e-05,  4.07837768e-04],\n",
              "        [-7.07495143e-04, -1.32093643e-04,  6.20508217e-05, ...,\n",
              "         -5.69458585e-04,  2.60949513e-04,  3.98884353e-04],\n",
              "        ...,\n",
              "        [-1.90101098e-03, -1.22213666e-03,  3.55796283e-03, ...,\n",
              "          2.83065485e-03, -2.01928569e-03, -1.35316094e-03],\n",
              "        [-1.97858759e-03, -1.68675533e-03,  4.21992457e-03, ...,\n",
              "          3.09760217e-03, -2.04006815e-03, -1.31105201e-03],\n",
              "        [-2.06757826e-03, -2.12304504e-03,  4.82482789e-03, ...,\n",
              "          3.29180458e-03, -2.04983517e-03, -1.22359721e-03]]],\n",
              "      dtype=float32)>"
            ]
          },
          "metadata": {
            "tags": []
          },
          "execution_count": 12
        }
      ]
    },
    {
      "cell_type": "code",
      "metadata": {
        "scrolled": true,
        "id": "HodMUhQiQ3DU",
        "outputId": "00614bc0-519b-4fbb-a725-242bc2567a6e"
      },
      "source": [
        "model.summary()"
      ],
      "execution_count": null,
      "outputs": [
        {
          "output_type": "stream",
          "text": [
            "Model: \"text_generator\"\n",
            "_________________________________________________________________\n",
            "Layer (type)                 Output Shape              Param #   \n",
            "=================================================================\n",
            "embedding (Embedding)        multiple                  1792256   \n",
            "_________________________________________________________________\n",
            "lstm (LSTM)                  multiple                  5246976   \n",
            "_________________________________________________________________\n",
            "lstm_1 (LSTM)                multiple                  8392704   \n",
            "_________________________________________________________________\n",
            "dense (Dense)                multiple                  7176025   \n",
            "=================================================================\n",
            "Total params: 22,607,961\n",
            "Trainable params: 22,607,961\n",
            "Non-trainable params: 0\n",
            "_________________________________________________________________\n"
          ],
          "name": "stdout"
        }
      ]
    },
    {
      "cell_type": "code",
      "metadata": {
        "id": "ggsLc1VoQ3DU",
        "outputId": "258ba912-bf9f-48bc-f431-7ccb1c8be3ca"
      },
      "source": [
        "optimizer = tf.keras.optimizers.Adam()\n",
        "loss = tf.keras.losses.SparseCategoricalCrossentropy(\n",
        "    from_logits=True,\n",
        "    reduction='none'\n",
        ")\n",
        "model.compile(loss=loss, optimizer=optimizer)\n",
        "model.fit(dataset, epochs=30)"
      ],
      "execution_count": null,
      "outputs": [
        {
          "output_type": "stream",
          "text": [
            "Epoch 1/30\n",
            "93/93 [==============================] - 282s 3s/step - loss: 4.5859\n",
            "Epoch 2/30\n",
            "93/93 [==============================] - 296s 3s/step - loss: 3.0296\n",
            "Epoch 3/30\n",
            "93/93 [==============================] - 295s 3s/step - loss: 2.9674\n",
            "Epoch 4/30\n",
            "93/93 [==============================] - 297s 3s/step - loss: 2.8915\n",
            "Epoch 5/30\n",
            "93/93 [==============================] - 296s 3s/step - loss: 2.8345\n",
            "Epoch 6/30\n",
            "93/93 [==============================] - 296s 3s/step - loss: 2.7766\n",
            "Epoch 7/30\n",
            "93/93 [==============================] - 300s 3s/step - loss: 2.7206\n",
            "Epoch 8/30\n",
            "30/93 [========>.....................] - ETA: 3:28 - loss: 2.6767"
          ],
          "name": "stdout"
        }
      ]
    },
    {
      "cell_type": "code",
      "metadata": {
        "id": "gvqav8ovQ3DV"
      },
      "source": [
        "def generate_text(model, tokenizer, init_sentence=\"<start>\", max_len=20):\n",
        "    # 테스트를 위해서 입력받은 init_sentence도 일단 텐서로 변환합니다.\n",
        "    test_input = tokenizer.texts_to_sequences([init_sentence])\n",
        "    test_tensor = tf.convert_to_tensor(test_input, dtype=tf.int64)\n",
        "    end_token = tokenizer.word_index[\"<end>\"]\n",
        "    # 텍스트를 실제로 생성할때는 루프를 돌면서 단어 하나씩 생성해야 합니다. \n",
        "    while True:\n",
        "        predict = model(test_tensor)  # 입력받은 문장의 텐서를 입력합니다. \n",
        "        predict_word = tf.argmax(tf.nn.softmax(predict, axis=-1), axis=-1)[:, -1]   # 우리 모델이 예측한 마지막 단어가 바로 새롭게 생성한 단어가 됩니다. \n",
        "        # 우리 모델이 새롭게 예측한 단어를 입력 문장의 뒤에 붙여 줍니다. \n",
        "        test_tensor = tf.concat([test_tensor, \n",
        "\t\t\t\t\t\t\t\t\t\t\t\t\t\t\t\t tf.expand_dims(predict_word, axis=0)], axis=-1)\n",
        "        # 우리 모델이 <end>를 예측했거나, max_len에 도달하지 않았다면  while 루프를 또 돌면서 다음 단어를 예측해야 합니다.\n",
        "        if predict_word.numpy()[0] == end_token: break\n",
        "        if test_tensor.shape[1] >= max_len: break\n",
        "    generated = \"\"\n",
        "    # 생성된 tensor 안에 있는 word index를 tokenizer.index_word 사전을 통해 실제 단어로 하나씩 변환합니다. \n",
        "    for word_index in test_tensor[0].numpy():\n",
        "        generated += tokenizer.index_word[word_index] + \" \"\n",
        "    return generated   # 이것이 최종적으로 모델이 생성한 자연어 문장입니다."
      ],
      "execution_count": null,
      "outputs": []
    },
    {
      "cell_type": "code",
      "metadata": {
        "id": "K3VVTgo0Q3DV"
      },
      "source": [
        "generate_text(model, tokenizer, init_sentence=\"<start> he\")"
      ],
      "execution_count": null,
      "outputs": []
    },
    {
      "cell_type": "code",
      "metadata": {
        "id": "lGQwf6t7Q3DV"
      },
      "source": [
        ""
      ],
      "execution_count": null,
      "outputs": []
    }
  ]
}